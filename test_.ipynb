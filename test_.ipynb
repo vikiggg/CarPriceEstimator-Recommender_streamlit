{
 "metadata": {
  "language_info": {
   "codemirror_mode": {
    "name": "ipython",
    "version": 3
   },
   "file_extension": ".py",
   "mimetype": "text/x-python",
   "name": "python",
   "nbconvert_exporter": "python",
   "pygments_lexer": "ipython3",
   "version": "3.6.9-final"
  },
  "orig_nbformat": 2,
  "kernelspec": {
   "name": "python3",
   "display_name": "Python 3.6.9 64-bit",
   "metadata": {
    "interpreter": {
     "hash": "31f2aee4e71d21fbe5cf8b01ff0e069b9275f58929596ceb00d14d90e3e16cd6"
    }
   }
  }
 },
 "nbformat": 4,
 "nbformat_minor": 2,
 "cells": [
  {
   "cell_type": "code",
   "execution_count": 1,
   "metadata": {},
   "outputs": [
    {
     "output_type": "execute_result",
     "data": {
      "text/plain": [
       "''"
      ],
      "application/vnd.google.colaboratory.intrinsic+json": {
       "type": "string"
      }
     },
     "metadata": {},
     "execution_count": 1
    }
   ],
   "source": [
    "import pandas as pd\n",
    "import matplotlib.pyplot as plt\n",
    "import seaborn as sns\n",
    "import numpy as np\n",
    "import datetime\n",
    "import re\n",
    "import pickle\n",
    "from collections import Counter\n",
    "from processing import *\n",
    "from recommendation import *\n",
    "from sklearn.compose import ColumnTransformer\n",
    "import tensorflow as tf\n",
    "device_name = tf.test.gpu_device_name()\n",
    "device_name"
   ]
  },
  {
   "cell_type": "code",
   "execution_count": 2,
   "metadata": {},
   "outputs": [],
   "source": [
    "data=pd.read_csv(PATH+'vehicles.csv')\n",
    "cars=data[['year', 'manufacturer',\n",
    "       'model', 'condition', 'cylinders', 'fuel', 'odometer', 'title_status',\n",
    "       'transmission', 'drive', 'size', 'type', 'paint_color','state', 'lat', 'long','price']]"
   ]
  },
  {
   "cell_type": "code",
   "execution_count": 3,
   "metadata": {},
   "outputs": [
    {
     "output_type": "stream",
     "name": "stdout",
     "text": [
      "Removed rows lack of information\n",
      "Removed irreasonable rows which price==0\n",
      "Filled odometer\n",
      "Filled default models\n",
      "revised 10282 car's manufacturers.\n",
      "droped 8539 cars.\n",
      "left 289261 cars.\n",
      "Filled manufacturers\n",
      "Added a column (manufacturer,model)\n",
      "Filled partial na by default values of the certain car model\n",
      "Filled all nulls\n"
     ]
    }
   ],
   "source": [
    "cars_after_processed=fill_nulls(cars)"
   ]
  },
  {
   "cell_type": "code",
   "execution_count": 8,
   "metadata": {},
   "outputs": [],
   "source": [
    "X=cars_after_processed[['year', 'manufacturer',\n",
    "       'model', 'condition', 'cylinders', 'fuel', 'odometer', 'title_status',\n",
    "       'transmission', 'drive', 'size', 'type', 'paint_color']]\n",
    "y=cars_after_processed['price']"
   ]
  },
  {
   "source": [
    "# Label Encoder"
   ],
   "cell_type": "markdown",
   "metadata": {}
  },
  {
   "cell_type": "code",
   "execution_count": 9,
   "metadata": {},
   "outputs": [
    {
     "output_type": "execute_result",
     "data": {
      "text/plain": [
       "        year  manufacturer    model  condition  ...  drive  size  type  paint_color\n",
       "0       84.0          16.0  13063.0        0.0  ...    0.0   1.0  10.0          8.0\n",
       "1       97.0          20.0  16793.0        0.0  ...    1.0   1.0   9.0          5.0\n",
       "2       97.0          50.0  14003.0        2.0  ...    1.0   2.0   4.0          1.0\n",
       "3       87.0          35.0  11547.0        2.0  ...    0.0   2.0   9.0          5.0\n",
       "4       91.0          16.0  16152.0        2.0  ...    0.0   1.0  10.0         10.0\n",
       "...      ...           ...      ...        ...  ...    ...   ...   ...          ...\n",
       "423852  90.0          20.0  16793.0        1.0  ...    1.0   1.0   9.0          1.0\n",
       "423853  87.0          50.0  15751.0        0.0  ...    0.0   1.0   0.0          4.0\n",
       "423854  78.0          15.0   7755.0        1.0  ...    2.0   1.0  10.0          4.0\n",
       "423855  83.0          28.0  18239.0        0.0  ...    2.0   1.0   9.0         10.0\n",
       "423856  99.0          37.0  19049.0        0.0  ...    1.0   0.0   9.0          9.0\n",
       "\n",
       "[289261 rows x 13 columns]"
      ],
      "text/html": "<div>\n<style scoped>\n    .dataframe tbody tr th:only-of-type {\n        vertical-align: middle;\n    }\n\n    .dataframe tbody tr th {\n        vertical-align: top;\n    }\n\n    .dataframe thead th {\n        text-align: right;\n    }\n</style>\n<table border=\"1\" class=\"dataframe\">\n  <thead>\n    <tr style=\"text-align: right;\">\n      <th></th>\n      <th>year</th>\n      <th>manufacturer</th>\n      <th>model</th>\n      <th>condition</th>\n      <th>cylinders</th>\n      <th>fuel</th>\n      <th>odometer</th>\n      <th>title_status</th>\n      <th>transmission</th>\n      <th>drive</th>\n      <th>size</th>\n      <th>type</th>\n      <th>paint_color</th>\n    </tr>\n  </thead>\n  <tbody>\n    <tr>\n      <th>0</th>\n      <td>84.0</td>\n      <td>16.0</td>\n      <td>13063.0</td>\n      <td>0.0</td>\n      <td>6.0</td>\n      <td>2.0</td>\n      <td>0.335566</td>\n      <td>0.0</td>\n      <td>0.0</td>\n      <td>0.0</td>\n      <td>1.0</td>\n      <td>10.0</td>\n      <td>8.0</td>\n    </tr>\n    <tr>\n      <th>1</th>\n      <td>97.0</td>\n      <td>20.0</td>\n      <td>16793.0</td>\n      <td>0.0</td>\n      <td>3.0</td>\n      <td>2.0</td>\n      <td>0.181642</td>\n      <td>0.0</td>\n      <td>0.0</td>\n      <td>1.0</td>\n      <td>1.0</td>\n      <td>9.0</td>\n      <td>5.0</td>\n    </tr>\n    <tr>\n      <th>2</th>\n      <td>97.0</td>\n      <td>50.0</td>\n      <td>14003.0</td>\n      <td>2.0</td>\n      <td>3.0</td>\n      <td>3.0</td>\n      <td>0.185600</td>\n      <td>0.0</td>\n      <td>0.0</td>\n      <td>1.0</td>\n      <td>2.0</td>\n      <td>4.0</td>\n      <td>1.0</td>\n    </tr>\n    <tr>\n      <th>3</th>\n      <td>87.0</td>\n      <td>35.0</td>\n      <td>11547.0</td>\n      <td>2.0</td>\n      <td>3.0</td>\n      <td>2.0</td>\n      <td>0.307345</td>\n      <td>0.0</td>\n      <td>1.0</td>\n      <td>0.0</td>\n      <td>2.0</td>\n      <td>9.0</td>\n      <td>5.0</td>\n    </tr>\n    <tr>\n      <th>4</th>\n      <td>91.0</td>\n      <td>16.0</td>\n      <td>16152.0</td>\n      <td>2.0</td>\n      <td>6.0</td>\n      <td>0.0</td>\n      <td>0.508434</td>\n      <td>0.0</td>\n      <td>0.0</td>\n      <td>0.0</td>\n      <td>1.0</td>\n      <td>10.0</td>\n      <td>10.0</td>\n    </tr>\n    <tr>\n      <th>...</th>\n      <td>...</td>\n      <td>...</td>\n      <td>...</td>\n      <td>...</td>\n      <td>...</td>\n      <td>...</td>\n      <td>...</td>\n      <td>...</td>\n      <td>...</td>\n      <td>...</td>\n      <td>...</td>\n      <td>...</td>\n      <td>...</td>\n    </tr>\n    <tr>\n      <th>423852</th>\n      <td>90.0</td>\n      <td>20.0</td>\n      <td>16793.0</td>\n      <td>1.0</td>\n      <td>5.0</td>\n      <td>2.0</td>\n      <td>0.319960</td>\n      <td>0.0</td>\n      <td>0.0</td>\n      <td>1.0</td>\n      <td>1.0</td>\n      <td>9.0</td>\n      <td>1.0</td>\n    </tr>\n    <tr>\n      <th>423853</th>\n      <td>87.0</td>\n      <td>50.0</td>\n      <td>15751.0</td>\n      <td>0.0</td>\n      <td>6.0</td>\n      <td>2.0</td>\n      <td>0.320000</td>\n      <td>0.0</td>\n      <td>0.0</td>\n      <td>0.0</td>\n      <td>1.0</td>\n      <td>0.0</td>\n      <td>4.0</td>\n    </tr>\n    <tr>\n      <th>423854</th>\n      <td>78.0</td>\n      <td>15.0</td>\n      <td>7755.0</td>\n      <td>1.0</td>\n      <td>5.0</td>\n      <td>2.0</td>\n      <td>0.424000</td>\n      <td>0.0</td>\n      <td>1.0</td>\n      <td>2.0</td>\n      <td>1.0</td>\n      <td>10.0</td>\n      <td>4.0</td>\n    </tr>\n    <tr>\n      <th>423855</th>\n      <td>83.0</td>\n      <td>28.0</td>\n      <td>18239.0</td>\n      <td>0.0</td>\n      <td>6.0</td>\n      <td>2.0</td>\n      <td>0.320000</td>\n      <td>0.0</td>\n      <td>0.0</td>\n      <td>2.0</td>\n      <td>1.0</td>\n      <td>9.0</td>\n      <td>10.0</td>\n    </tr>\n    <tr>\n      <th>423856</th>\n      <td>99.0</td>\n      <td>37.0</td>\n      <td>19049.0</td>\n      <td>0.0</td>\n      <td>3.0</td>\n      <td>2.0</td>\n      <td>0.321052</td>\n      <td>0.0</td>\n      <td>0.0</td>\n      <td>1.0</td>\n      <td>0.0</td>\n      <td>9.0</td>\n      <td>9.0</td>\n    </tr>\n  </tbody>\n</table>\n<p>289261 rows × 13 columns</p>\n</div>"
     },
     "metadata": {},
     "execution_count": 9
    }
   ],
   "source": [
    "ode=OrdinalEncoder()\n",
    "X[label_features]=ode.fit_transform(X[label_features])\n",
    "Transformer(normalized).fit_transform(X)"
   ]
  },
  {
   "cell_type": "code",
   "execution_count": 34,
   "metadata": {},
   "outputs": [
    {
     "output_type": "execute_result",
     "data": {
      "text/plain": [
       "   year manufacturer        model  ...       size   type paint_color\n",
       "0  2012        BUICK  THUNDERBIRD  ...  full-size  truck         red\n",
       "\n",
       "[1 rows x 13 columns]"
      ],
      "text/html": "<div>\n<style scoped>\n    .dataframe tbody tr th:only-of-type {\n        vertical-align: middle;\n    }\n\n    .dataframe tbody tr th {\n        vertical-align: top;\n    }\n\n    .dataframe thead th {\n        text-align: right;\n    }\n</style>\n<table border=\"1\" class=\"dataframe\">\n  <thead>\n    <tr style=\"text-align: right;\">\n      <th></th>\n      <th>year</th>\n      <th>manufacturer</th>\n      <th>model</th>\n      <th>condition</th>\n      <th>cylinders</th>\n      <th>fuel</th>\n      <th>odometer</th>\n      <th>title_status</th>\n      <th>transmission</th>\n      <th>drive</th>\n      <th>size</th>\n      <th>type</th>\n      <th>paint_color</th>\n    </tr>\n  </thead>\n  <tbody>\n    <tr>\n      <th>0</th>\n      <td>2012</td>\n      <td>BUICK</td>\n      <td>THUNDERBIRD</td>\n      <td>excellent</td>\n      <td>8 cylinders</td>\n      <td>gas</td>\n      <td>33000</td>\n      <td>clean</td>\n      <td>automatic</td>\n      <td>4wd</td>\n      <td>full-size</td>\n      <td>truck</td>\n      <td>red</td>\n    </tr>\n  </tbody>\n</table>\n</div>"
     },
     "metadata": {},
     "execution_count": 34
    }
   ],
   "source": [
    "sample=pd.DataFrame(data={'year':2012,\n",
    "    'manufacturer':'BUICK',\n",
    "    'model':'THUNDERBIRD',\n",
    "    'condition':'excellent',\n",
    "    'cylinders':'8 cylinders',\n",
    "    'fuel':'gas',\n",
    "    'odometer':33000,\n",
    "    'title_status':'clean',\n",
    "    'transmission':'automatic',\n",
    "    'drive':'4wd',\n",
    "    'size':'full-size',\n",
    "    'type':'truck',\n",
    "    'paint_color':'red'},index=[0])\n",
    "sample"
   ]
  },
  {
   "cell_type": "code",
   "execution_count": 35,
   "metadata": {},
   "outputs": [
    {
     "output_type": "execute_result",
     "data": {
      "text/plain": [
       "   year  manufacturer    model  condition  ...  drive  size  type  paint_color\n",
       "0  96.0           6.0  17939.0        0.0  ...    0.0   1.0  10.0          8.0\n",
       "\n",
       "[1 rows x 13 columns]"
      ],
      "text/html": "<div>\n<style scoped>\n    .dataframe tbody tr th:only-of-type {\n        vertical-align: middle;\n    }\n\n    .dataframe tbody tr th {\n        vertical-align: top;\n    }\n\n    .dataframe thead th {\n        text-align: right;\n    }\n</style>\n<table border=\"1\" class=\"dataframe\">\n  <thead>\n    <tr style=\"text-align: right;\">\n      <th></th>\n      <th>year</th>\n      <th>manufacturer</th>\n      <th>model</th>\n      <th>condition</th>\n      <th>cylinders</th>\n      <th>fuel</th>\n      <th>odometer</th>\n      <th>title_status</th>\n      <th>transmission</th>\n      <th>drive</th>\n      <th>size</th>\n      <th>type</th>\n      <th>paint_color</th>\n    </tr>\n  </thead>\n  <tbody>\n    <tr>\n      <th>0</th>\n      <td>96.0</td>\n      <td>6.0</td>\n      <td>17939.0</td>\n      <td>0.0</td>\n      <td>6.0</td>\n      <td>2.0</td>\n      <td>0.066</td>\n      <td>0.0</td>\n      <td>0.0</td>\n      <td>0.0</td>\n      <td>1.0</td>\n      <td>10.0</td>\n      <td>8.0</td>\n    </tr>\n  </tbody>\n</table>\n</div>"
     },
     "metadata": {},
     "execution_count": 35
    }
   ],
   "source": [
    "sample[label_features]=ode.transform(sample[label_features])\n",
    "test_sample=Transformer(normalized).transform(sample)\n",
    "test_sample"
   ]
  },
  {
   "cell_type": "code",
   "execution_count": 14,
   "metadata": {},
   "outputs": [],
   "source": [
    "# pickle.dump(ode,(open(PATH+'label_encoder.txt','wb')))"
   ]
  },
  {
   "cell_type": "code",
   "execution_count": 20,
   "metadata": {},
   "outputs": [],
   "source": [
    "label=pickle.load(open(PATH+'label_encoder.txt','rb'))\n",
    "\n",
    "def ready_to_predict(df):\n",
    "    input_df=df.copy()\n",
    "    input_df[label_features]=label.transform(input_df[label_features])\n",
    "    Transformer(normalized).transform(input_df)\n",
    "    input_df[['year', 'manufacturer', 'model', 'condition', 'cylinders', 'fuel',\n",
    "       'title_status', 'transmission', 'drive', 'size', 'type',\n",
    "       'paint_color']]=input_df[['year', 'manufacturer', 'model', 'condition', 'cylinders', 'fuel',\n",
    "       'title_status', 'transmission', 'drive', 'size', 'type',\n",
    "       'paint_color']].astype('int')\n",
    "    return input_df"
   ]
  },
  {
   "cell_type": "code",
   "execution_count": 24,
   "metadata": {},
   "outputs": [
    {
     "output_type": "execute_result",
     "data": {
      "text/plain": [
       "   year  manufacturer  model  condition  ...  drive  size  type  paint_color\n",
       "0    96             6  17939          0  ...      0     1    10            8\n",
       "\n",
       "[1 rows x 13 columns]"
      ],
      "text/html": "<div>\n<style scoped>\n    .dataframe tbody tr th:only-of-type {\n        vertical-align: middle;\n    }\n\n    .dataframe tbody tr th {\n        vertical-align: top;\n    }\n\n    .dataframe thead th {\n        text-align: right;\n    }\n</style>\n<table border=\"1\" class=\"dataframe\">\n  <thead>\n    <tr style=\"text-align: right;\">\n      <th></th>\n      <th>year</th>\n      <th>manufacturer</th>\n      <th>model</th>\n      <th>condition</th>\n      <th>cylinders</th>\n      <th>fuel</th>\n      <th>odometer</th>\n      <th>title_status</th>\n      <th>transmission</th>\n      <th>drive</th>\n      <th>size</th>\n      <th>type</th>\n      <th>paint_color</th>\n    </tr>\n  </thead>\n  <tbody>\n    <tr>\n      <th>0</th>\n      <td>96</td>\n      <td>6</td>\n      <td>17939</td>\n      <td>0</td>\n      <td>6</td>\n      <td>2</td>\n      <td>0.066</td>\n      <td>0</td>\n      <td>0</td>\n      <td>0</td>\n      <td>1</td>\n      <td>10</td>\n      <td>8</td>\n    </tr>\n  </tbody>\n</table>\n</div>"
     },
     "metadata": {},
     "execution_count": 24
    }
   ],
   "source": [
    "ready_to_predict(sample)"
   ]
  },
  {
   "source": [
    "# Modeling"
   ],
   "cell_type": "markdown",
   "metadata": {}
  },
  {
   "cell_type": "code",
   "execution_count": 25,
   "metadata": {},
   "outputs": [],
   "source": [
    "reg=Ridge(alpha=1,solver='lsqr')"
   ]
  },
  {
   "cell_type": "code",
   "execution_count": 26,
   "metadata": {},
   "outputs": [
    {
     "output_type": "execute_result",
     "data": {
      "text/plain": [
       "Ridge(alpha=1, copy_X=True, fit_intercept=True, max_iter=None, normalize=False,\n",
       "      random_state=None, solver='lsqr', tol=0.001)"
      ]
     },
     "metadata": {},
     "execution_count": 26
    }
   ],
   "source": [
    "reg.fit(X,y)"
   ]
  },
  {
   "cell_type": "code",
   "execution_count": 36,
   "metadata": {},
   "outputs": [
    {
     "output_type": "execute_result",
     "data": {
      "text/plain": [
       "array([5526.18203614])"
      ]
     },
     "metadata": {},
     "execution_count": 36
    }
   ],
   "source": [
    "reg.predict(test_sample)"
   ]
  },
  {
   "cell_type": "code",
   "execution_count": 45,
   "metadata": {},
   "outputs": [
    {
     "output_type": "execute_result",
     "data": {
      "text/plain": [
       "1.296557182683955e-05"
      ]
     },
     "metadata": {},
     "execution_count": 45
    }
   ],
   "source": [
    "reg.score(X,y)"
   ]
  },
  {
   "cell_type": "code",
   "execution_count": 46,
   "metadata": {},
   "outputs": [],
   "source": [
    "pickle.dump(reg,open(PATH+'trained_model.txt','wb'))"
   ]
  },
  {
   "cell_type": "code",
   "execution_count": null,
   "metadata": {},
   "outputs": [],
   "source": []
  },
  {
   "source": [
    "# Test Recommendation"
   ],
   "cell_type": "markdown",
   "metadata": {}
  },
  {
   "cell_type": "code",
<<<<<<< HEAD
   "execution_count": 38,
   "metadata": {},
   "outputs": [],
   "source": [
    "pd.to_pickle(rec_data,'rec_data',compression='zip')"
   ]
  },
  {
   "cell_type": "code",
   "execution_count": 39,
=======
   "execution_count": 2,
>>>>>>> parent of 9a195e9... rec_data-uploaded
   "metadata": {},
   "outputs": [
    {
     "output_type": "execute_result",
     "data": {
      "text/plain": [
<<<<<<< HEAD
       "                                              description  price    year  \\\n",
       "0       2000 *** GMC New Sierra 1500 Ext Cab 157.5  WB...   6995  2000.0   \n",
       "1       For Sale:  2013 Hyundai Sonata GLS - $8750.  O...   8750  2013.0   \n",
       "2       2013 Prius V Model Two. One owner—must sell my...  10900  2013.0   \n",
       "3       2003 Mitsubishi Lancer Evolution, silver.  Abo...  12500  2003.0   \n",
       "4       **Bad Credit, No Credit... No Problem!**2007 G...  16995  2007.0   \n",
       "...                                                   ...    ...     ...   \n",
       "423852  Motor runs and drives good. Transmission shift...   1600  2006.0   \n",
       "423853  2 owner 0 rust not from here... Leather ,roof ...   9000  2003.0   \n",
       "423854  I'm selling this beautiful old pickup that I j...    700  1994.0   \n",
       "423855  1999 *** Lincoln Town Car 4dr Sdn Signature Se...   3800  1999.0   \n",
       "423856  2015 Nissan Versa S     Offered by: Southwest ...   8650  2015.0   \n",
       "\n",
       "       manufacturer                  model  condition    cylinders    fuel  \\\n",
       "0               GMC        NEW SIERRA 1500  excellent  8 cylinders     gas   \n",
       "1           HYUNDAI                 SONATA  excellent  4 cylinders     gas   \n",
       "2            TOYOTA                  PRIUS       good  4 cylinders  hybrid   \n",
       "3        MITSUBISHI                 LANCER       good  4 cylinders     gas   \n",
       "4               GMC  SIERRA CLASSIC 2500HD       good  8 cylinders  diesel   \n",
       "...             ...                    ...        ...          ...     ...   \n",
       "423852      HYUNDAI                 SONATA       fair  6 cylinders     gas   \n",
       "423853       TOYOTA        SEQUOIA LIMITED  excellent  8 cylinders     gas   \n",
       "423854         FORD                   F150       fair  6 cylinders     gas   \n",
       "423855      LINCOLN               TOWN CAR  excellent  8 cylinders     gas   \n",
       "423856       NISSAN                  VERSA  excellent  4 cylinders     gas   \n",
       "\n",
       "            odometer title_status transmission drive       size       type  \\\n",
       "0       167783.00000        clean    automatic   4wd  full-size      truck   \n",
       "1        90821.00000        clean    automatic   fwd  full-size      sedan   \n",
       "2        92800.00000        clean    automatic   fwd   mid-size  hatchback   \n",
       "3       153672.55064        clean       manual   4wd   mid-size      sedan   \n",
       "4       254217.00000        clean    automatic   4wd  full-size      truck   \n",
       "...              ...          ...          ...   ...        ...        ...   \n",
       "423852  159980.00000        clean    automatic   fwd  full-size      sedan   \n",
       "423853  160000.00000        clean    automatic   4wd  full-size        SUV   \n",
       "423854  212000.00000        clean       manual   rwd  full-size      truck   \n",
       "423855  160000.00000        clean    automatic   rwd  full-size      sedan   \n",
       "423856  160526.00000        clean    automatic   fwd    compact      sedan   \n",
       "\n",
       "       paint_color state  \n",
       "0              red    mn  \n",
       "1             grey    mn  \n",
       "2             blue    ct  \n",
       "3             grey    nm  \n",
       "4            white    mn  \n",
       "...            ...   ...  \n",
       "423852        blue    mn  \n",
       "423853       green    mn  \n",
       "423854       green    mn  \n",
       "423855       white    mn  \n",
       "423856      silver    nm  \n",
       "\n",
       "[289261 rows x 16 columns]"
      ],
      "text/html": "<div>\n<style scoped>\n    .dataframe tbody tr th:only-of-type {\n        vertical-align: middle;\n    }\n\n    .dataframe tbody tr th {\n        vertical-align: top;\n    }\n\n    .dataframe thead th {\n        text-align: right;\n    }\n</style>\n<table border=\"1\" class=\"dataframe\">\n  <thead>\n    <tr style=\"text-align: right;\">\n      <th></th>\n      <th>description</th>\n      <th>price</th>\n      <th>year</th>\n      <th>manufacturer</th>\n      <th>model</th>\n      <th>condition</th>\n      <th>cylinders</th>\n      <th>fuel</th>\n      <th>odometer</th>\n      <th>title_status</th>\n      <th>transmission</th>\n      <th>drive</th>\n      <th>size</th>\n      <th>type</th>\n      <th>paint_color</th>\n      <th>state</th>\n    </tr>\n  </thead>\n  <tbody>\n    <tr>\n      <th>0</th>\n      <td>2000 *** GMC New Sierra 1500 Ext Cab 157.5  WB...</td>\n      <td>6995</td>\n      <td>2000.0</td>\n      <td>GMC</td>\n      <td>NEW SIERRA 1500</td>\n      <td>excellent</td>\n      <td>8 cylinders</td>\n      <td>gas</td>\n      <td>167783.00000</td>\n      <td>clean</td>\n      <td>automatic</td>\n      <td>4wd</td>\n      <td>full-size</td>\n      <td>truck</td>\n      <td>red</td>\n      <td>mn</td>\n    </tr>\n    <tr>\n      <th>1</th>\n      <td>For Sale:  2013 Hyundai Sonata GLS - $8750.  O...</td>\n      <td>8750</td>\n      <td>2013.0</td>\n      <td>HYUNDAI</td>\n      <td>SONATA</td>\n      <td>excellent</td>\n      <td>4 cylinders</td>\n      <td>gas</td>\n      <td>90821.00000</td>\n      <td>clean</td>\n      <td>automatic</td>\n      <td>fwd</td>\n      <td>full-size</td>\n      <td>sedan</td>\n      <td>grey</td>\n      <td>mn</td>\n    </tr>\n    <tr>\n      <th>2</th>\n      <td>2013 Prius V Model Two. One owner—must sell my...</td>\n      <td>10900</td>\n      <td>2013.0</td>\n      <td>TOYOTA</td>\n      <td>PRIUS</td>\n      <td>good</td>\n      <td>4 cylinders</td>\n      <td>hybrid</td>\n      <td>92800.00000</td>\n      <td>clean</td>\n      <td>automatic</td>\n      <td>fwd</td>\n      <td>mid-size</td>\n      <td>hatchback</td>\n      <td>blue</td>\n      <td>ct</td>\n    </tr>\n    <tr>\n      <th>3</th>\n      <td>2003 Mitsubishi Lancer Evolution, silver.  Abo...</td>\n      <td>12500</td>\n      <td>2003.0</td>\n      <td>MITSUBISHI</td>\n      <td>LANCER</td>\n      <td>good</td>\n      <td>4 cylinders</td>\n      <td>gas</td>\n      <td>153672.55064</td>\n      <td>clean</td>\n      <td>manual</td>\n      <td>4wd</td>\n      <td>mid-size</td>\n      <td>sedan</td>\n      <td>grey</td>\n      <td>nm</td>\n    </tr>\n    <tr>\n      <th>4</th>\n      <td>**Bad Credit, No Credit... No Problem!**2007 G...</td>\n      <td>16995</td>\n      <td>2007.0</td>\n      <td>GMC</td>\n      <td>SIERRA CLASSIC 2500HD</td>\n      <td>good</td>\n      <td>8 cylinders</td>\n      <td>diesel</td>\n      <td>254217.00000</td>\n      <td>clean</td>\n      <td>automatic</td>\n      <td>4wd</td>\n      <td>full-size</td>\n      <td>truck</td>\n      <td>white</td>\n      <td>mn</td>\n    </tr>\n    <tr>\n      <th>...</th>\n      <td>...</td>\n      <td>...</td>\n      <td>...</td>\n      <td>...</td>\n      <td>...</td>\n      <td>...</td>\n      <td>...</td>\n      <td>...</td>\n      <td>...</td>\n      <td>...</td>\n      <td>...</td>\n      <td>...</td>\n      <td>...</td>\n      <td>...</td>\n      <td>...</td>\n      <td>...</td>\n    </tr>\n    <tr>\n      <th>423852</th>\n      <td>Motor runs and drives good. Transmission shift...</td>\n      <td>1600</td>\n      <td>2006.0</td>\n      <td>HYUNDAI</td>\n      <td>SONATA</td>\n      <td>fair</td>\n      <td>6 cylinders</td>\n      <td>gas</td>\n      <td>159980.00000</td>\n      <td>clean</td>\n      <td>automatic</td>\n      <td>fwd</td>\n      <td>full-size</td>\n      <td>sedan</td>\n      <td>blue</td>\n      <td>mn</td>\n    </tr>\n    <tr>\n      <th>423853</th>\n      <td>2 owner 0 rust not from here... Leather ,roof ...</td>\n      <td>9000</td>\n      <td>2003.0</td>\n      <td>TOYOTA</td>\n      <td>SEQUOIA LIMITED</td>\n      <td>excellent</td>\n      <td>8 cylinders</td>\n      <td>gas</td>\n      <td>160000.00000</td>\n      <td>clean</td>\n      <td>automatic</td>\n      <td>4wd</td>\n      <td>full-size</td>\n      <td>SUV</td>\n      <td>green</td>\n      <td>mn</td>\n    </tr>\n    <tr>\n      <th>423854</th>\n      <td>I'm selling this beautiful old pickup that I j...</td>\n      <td>700</td>\n      <td>1994.0</td>\n      <td>FORD</td>\n      <td>F150</td>\n      <td>fair</td>\n      <td>6 cylinders</td>\n      <td>gas</td>\n      <td>212000.00000</td>\n      <td>clean</td>\n      <td>manual</td>\n      <td>rwd</td>\n      <td>full-size</td>\n      <td>truck</td>\n      <td>green</td>\n      <td>mn</td>\n    </tr>\n    <tr>\n      <th>423855</th>\n      <td>1999 *** Lincoln Town Car 4dr Sdn Signature Se...</td>\n      <td>3800</td>\n      <td>1999.0</td>\n      <td>LINCOLN</td>\n      <td>TOWN CAR</td>\n      <td>excellent</td>\n      <td>8 cylinders</td>\n      <td>gas</td>\n      <td>160000.00000</td>\n      <td>clean</td>\n      <td>automatic</td>\n      <td>rwd</td>\n      <td>full-size</td>\n      <td>sedan</td>\n      <td>white</td>\n      <td>mn</td>\n    </tr>\n    <tr>\n      <th>423856</th>\n      <td>2015 Nissan Versa S     Offered by: Southwest ...</td>\n      <td>8650</td>\n      <td>2015.0</td>\n      <td>NISSAN</td>\n      <td>VERSA</td>\n      <td>excellent</td>\n      <td>4 cylinders</td>\n      <td>gas</td>\n      <td>160526.00000</td>\n      <td>clean</td>\n      <td>automatic</td>\n      <td>fwd</td>\n      <td>compact</td>\n      <td>sedan</td>\n      <td>silver</td>\n      <td>nm</td>\n    </tr>\n  </tbody>\n</table>\n<p>289261 rows × 16 columns</p>\n</div>"
     },
     "metadata": {},
     "execution_count": 39
=======
       "                id  ... default_title_status\n",
       "0       7184791621  ...                clean\n",
       "1       7184773187  ...                clean\n",
       "2       7193375964  ...                clean\n",
       "3       7195108810  ...                clean\n",
       "4       7184712241  ...                clean\n",
       "...            ...  ...                  ...\n",
       "423852  7184919761  ...                clean\n",
       "423853  7184844576  ...                clean\n",
       "423854  7184805809  ...                clean\n",
       "423855  7184791927  ...                clean\n",
       "423856  7195109037  ...                clean\n",
       "\n",
       "[289261 rows x 36 columns]"
      ],
      "text/html": "<div>\n<style scoped>\n    .dataframe tbody tr th:only-of-type {\n        vertical-align: middle;\n    }\n\n    .dataframe tbody tr th {\n        vertical-align: top;\n    }\n\n    .dataframe thead th {\n        text-align: right;\n    }\n</style>\n<table border=\"1\" class=\"dataframe\">\n  <thead>\n    <tr style=\"text-align: right;\">\n      <th></th>\n      <th>id</th>\n      <th>url</th>\n      <th>region</th>\n      <th>region_url</th>\n      <th>price</th>\n      <th>year</th>\n      <th>manufacturer</th>\n      <th>model</th>\n      <th>condition</th>\n      <th>cylinders</th>\n      <th>fuel</th>\n      <th>odometer</th>\n      <th>title_status</th>\n      <th>transmission</th>\n      <th>vin</th>\n      <th>drive</th>\n      <th>size</th>\n      <th>type</th>\n      <th>paint_color</th>\n      <th>image_url</th>\n      <th>description</th>\n      <th>county</th>\n      <th>state</th>\n      <th>lat</th>\n      <th>long</th>\n      <th>age</th>\n      <th>default_model</th>\n      <th>car_model</th>\n      <th>default_drive</th>\n      <th>default_cylinders</th>\n      <th>default_fuel</th>\n      <th>default_transmission</th>\n      <th>default_size</th>\n      <th>default_type</th>\n      <th>default_paint_color</th>\n      <th>default_title_status</th>\n    </tr>\n  </thead>\n  <tbody>\n    <tr>\n      <th>0</th>\n      <td>7184791621</td>\n      <td>https://duluth.craigslist.org/ctd/d/duluth-200...</td>\n      <td>duluth / superior</td>\n      <td>https://duluth.craigslist.org</td>\n      <td>6995</td>\n      <td>2000.0</td>\n      <td>GMC</td>\n      <td>NEW SIERRA 1500</td>\n      <td>excellent</td>\n      <td>8 cylinders</td>\n      <td>gas</td>\n      <td>167783.00000</td>\n      <td>clean</td>\n      <td>automatic</td>\n      <td>1GTEK19T3YE366021</td>\n      <td>4wd</td>\n      <td>full-size</td>\n      <td>truck</td>\n      <td>red</td>\n      <td>https://images.craigslist.org/00n0n_f06ykBMcdh...</td>\n      <td>2000 *** GMC New Sierra 1500 Ext Cab 157.5  WB...</td>\n      <td>NaN</td>\n      <td>mn</td>\n      <td>46.8433</td>\n      <td>-92.2550</td>\n      <td>20.0</td>\n      <td></td>\n      <td>(GMC, NEW SIERRA 1500)</td>\n      <td>4wd</td>\n      <td>8 cylinders</td>\n      <td>gas</td>\n      <td>automatic</td>\n      <td>full-size</td>\n      <td>truck</td>\n      <td>red</td>\n      <td>clean</td>\n    </tr>\n    <tr>\n      <th>1</th>\n      <td>7184773187</td>\n      <td>https://duluth.craigslist.org/cto/d/saginaw-20...</td>\n      <td>duluth / superior</td>\n      <td>https://duluth.craigslist.org</td>\n      <td>8750</td>\n      <td>2013.0</td>\n      <td>HYUNDAI</td>\n      <td>SONATA</td>\n      <td>excellent</td>\n      <td>4 cylinders</td>\n      <td>gas</td>\n      <td>90821.00000</td>\n      <td>clean</td>\n      <td>automatic</td>\n      <td>NaN</td>\n      <td>fwd</td>\n      <td>full-size</td>\n      <td>sedan</td>\n      <td>grey</td>\n      <td>https://images.craigslist.org/00d0d_kgZ6xoeRw2...</td>\n      <td>For Sale:  2013 Hyundai Sonata GLS - $8750.  O...</td>\n      <td>NaN</td>\n      <td>mn</td>\n      <td>46.9074</td>\n      <td>-92.4638</td>\n      <td>7.0</td>\n      <td></td>\n      <td>(HYUNDAI, SONATA)</td>\n      <td>fwd</td>\n      <td>4 cylinders</td>\n      <td>gas</td>\n      <td>automatic</td>\n      <td>full-size</td>\n      <td>sedan</td>\n      <td>silver</td>\n      <td>clean</td>\n    </tr>\n    <tr>\n      <th>2</th>\n      <td>7193375964</td>\n      <td>https://newhaven.craigslist.org/cto/d/stratfor...</td>\n      <td>new haven</td>\n      <td>https://newhaven.craigslist.org</td>\n      <td>10900</td>\n      <td>2013.0</td>\n      <td>TOYOTA</td>\n      <td>PRIUS</td>\n      <td>good</td>\n      <td>4 cylinders</td>\n      <td>hybrid</td>\n      <td>92800.00000</td>\n      <td>clean</td>\n      <td>automatic</td>\n      <td>NaN</td>\n      <td>fwd</td>\n      <td>mid-size</td>\n      <td>hatchback</td>\n      <td>blue</td>\n      <td>https://images.craigslist.org/00d0d_3sHGxPbY2O...</td>\n      <td>2013 Prius V Model Two. One owner—must sell my...</td>\n      <td>NaN</td>\n      <td>ct</td>\n      <td>41.1770</td>\n      <td>-73.1336</td>\n      <td>7.0</td>\n      <td></td>\n      <td>(TOYOTA, PRIUS)</td>\n      <td>fwd</td>\n      <td>4 cylinders</td>\n      <td>hybrid</td>\n      <td>automatic</td>\n      <td>mid-size</td>\n      <td>hatchback</td>\n      <td>silver</td>\n      <td>clean</td>\n    </tr>\n    <tr>\n      <th>3</th>\n      <td>7195108810</td>\n      <td>https://albuquerque.craigslist.org/cto/d/albuq...</td>\n      <td>albuquerque</td>\n      <td>https://albuquerque.craigslist.org</td>\n      <td>12500</td>\n      <td>2003.0</td>\n      <td>MITSUBISHI</td>\n      <td>LANCER</td>\n      <td>good</td>\n      <td>4 cylinders</td>\n      <td>gas</td>\n      <td>153672.55064</td>\n      <td>clean</td>\n      <td>manual</td>\n      <td>NaN</td>\n      <td>4wd</td>\n      <td>mid-size</td>\n      <td>sedan</td>\n      <td>grey</td>\n      <td>https://images.craigslist.org/00m0m_4a8Pb6JbMG...</td>\n      <td>2003 Mitsubishi Lancer Evolution, silver.  Abo...</td>\n      <td>NaN</td>\n      <td>nm</td>\n      <td>35.1868</td>\n      <td>-106.6650</td>\n      <td>17.0</td>\n      <td></td>\n      <td>(MITSUBISHI, LANCER)</td>\n      <td>fwd</td>\n      <td>4 cylinders</td>\n      <td>gas</td>\n      <td>automatic</td>\n      <td>compact</td>\n      <td>sedan</td>\n      <td>black</td>\n      <td>clean</td>\n    </tr>\n    <tr>\n      <th>4</th>\n      <td>7184712241</td>\n      <td>https://duluth.craigslist.org/ctd/d/rush-city-...</td>\n      <td>duluth / superior</td>\n      <td>https://duluth.craigslist.org</td>\n      <td>16995</td>\n      <td>2007.0</td>\n      <td>GMC</td>\n      <td>SIERRA CLASSIC 2500HD</td>\n      <td>good</td>\n      <td>8 cylinders</td>\n      <td>diesel</td>\n      <td>254217.00000</td>\n      <td>clean</td>\n      <td>automatic</td>\n      <td>1GTHK23D57F102022</td>\n      <td>4wd</td>\n      <td>full-size</td>\n      <td>truck</td>\n      <td>white</td>\n      <td>https://images.craigslist.org/01414_g093aPtSMW...</td>\n      <td>**Bad Credit, No Credit... No Problem!**2007 G...</td>\n      <td>NaN</td>\n      <td>mn</td>\n      <td>45.6836</td>\n      <td>-92.9648</td>\n      <td>13.0</td>\n      <td></td>\n      <td>(GMC, SIERRA CLASSIC 2500HD)</td>\n      <td>rwd</td>\n      <td>8 cylinders</td>\n      <td>gas</td>\n      <td>automatic</td>\n      <td>full-size</td>\n      <td>truck</td>\n      <td>white</td>\n      <td>clean</td>\n    </tr>\n    <tr>\n      <th>...</th>\n      <td>...</td>\n      <td>...</td>\n      <td>...</td>\n      <td>...</td>\n      <td>...</td>\n      <td>...</td>\n      <td>...</td>\n      <td>...</td>\n      <td>...</td>\n      <td>...</td>\n      <td>...</td>\n      <td>...</td>\n      <td>...</td>\n      <td>...</td>\n      <td>...</td>\n      <td>...</td>\n      <td>...</td>\n      <td>...</td>\n      <td>...</td>\n      <td>...</td>\n      <td>...</td>\n      <td>...</td>\n      <td>...</td>\n      <td>...</td>\n      <td>...</td>\n      <td>...</td>\n      <td>...</td>\n      <td>...</td>\n      <td>...</td>\n      <td>...</td>\n      <td>...</td>\n      <td>...</td>\n      <td>...</td>\n      <td>...</td>\n      <td>...</td>\n      <td>...</td>\n    </tr>\n    <tr>\n      <th>423852</th>\n      <td>7184919761</td>\n      <td>https://duluth.craigslist.org/cto/d/duluth-200...</td>\n      <td>duluth / superior</td>\n      <td>https://duluth.craigslist.org</td>\n      <td>1600</td>\n      <td>2006.0</td>\n      <td>HYUNDAI</td>\n      <td>SONATA</td>\n      <td>fair</td>\n      <td>6 cylinders</td>\n      <td>gas</td>\n      <td>159980.00000</td>\n      <td>clean</td>\n      <td>automatic</td>\n      <td>NaN</td>\n      <td>fwd</td>\n      <td>full-size</td>\n      <td>sedan</td>\n      <td>blue</td>\n      <td>https://images.craigslist.org/00E0E_8o5RKLUz3o...</td>\n      <td>Motor runs and drives good. Transmission shift...</td>\n      <td>NaN</td>\n      <td>mn</td>\n      <td>46.8348</td>\n      <td>-92.0742</td>\n      <td>14.0</td>\n      <td></td>\n      <td>(HYUNDAI, SONATA)</td>\n      <td>fwd</td>\n      <td>4 cylinders</td>\n      <td>gas</td>\n      <td>automatic</td>\n      <td>full-size</td>\n      <td>sedan</td>\n      <td>silver</td>\n      <td>clean</td>\n    </tr>\n    <tr>\n      <th>423853</th>\n      <td>7184844576</td>\n      <td>https://duluth.craigslist.org/cto/d/duluth-200...</td>\n      <td>duluth / superior</td>\n      <td>https://duluth.craigslist.org</td>\n      <td>9000</td>\n      <td>2003.0</td>\n      <td>TOYOTA</td>\n      <td>SEQUOIA LIMITED</td>\n      <td>excellent</td>\n      <td>8 cylinders</td>\n      <td>gas</td>\n      <td>160000.00000</td>\n      <td>clean</td>\n      <td>automatic</td>\n      <td>NaN</td>\n      <td>4wd</td>\n      <td>full-size</td>\n      <td>SUV</td>\n      <td>green</td>\n      <td>https://images.craigslist.org/00G0G_BT0Ha3X736...</td>\n      <td>2 owner 0 rust not from here... Leather ,roof ...</td>\n      <td>NaN</td>\n      <td>mn</td>\n      <td>46.9369</td>\n      <td>-91.9325</td>\n      <td>17.0</td>\n      <td></td>\n      <td>(TOYOTA, SEQUOIA LIMITED)</td>\n      <td>4wd</td>\n      <td>8 cylinders</td>\n      <td>gas</td>\n      <td>automatic</td>\n      <td>full-size</td>\n      <td>SUV</td>\n      <td>white</td>\n      <td>clean</td>\n    </tr>\n    <tr>\n      <th>423854</th>\n      <td>7184805809</td>\n      <td>https://duluth.craigslist.org/cto/d/duluth-94-...</td>\n      <td>duluth / superior</td>\n      <td>https://duluth.craigslist.org</td>\n      <td>700</td>\n      <td>1994.0</td>\n      <td>FORD</td>\n      <td>F150</td>\n      <td>fair</td>\n      <td>6 cylinders</td>\n      <td>gas</td>\n      <td>212000.00000</td>\n      <td>clean</td>\n      <td>manual</td>\n      <td>NaN</td>\n      <td>rwd</td>\n      <td>full-size</td>\n      <td>truck</td>\n      <td>green</td>\n      <td>https://images.craigslist.org/00L0L_2MgECwYWhp...</td>\n      <td>I'm selling this beautiful old pickup that I j...</td>\n      <td>NaN</td>\n      <td>mn</td>\n      <td>46.7715</td>\n      <td>-92.1279</td>\n      <td>26.0</td>\n      <td></td>\n      <td>(FORD, F150)</td>\n      <td>4wd</td>\n      <td>8 cylinders</td>\n      <td>gas</td>\n      <td>automatic</td>\n      <td>full-size</td>\n      <td>truck</td>\n      <td>white</td>\n      <td>clean</td>\n    </tr>\n    <tr>\n      <th>423855</th>\n      <td>7184791927</td>\n      <td>https://duluth.craigslist.org/ctd/d/duluth-199...</td>\n      <td>duluth / superior</td>\n      <td>https://duluth.craigslist.org</td>\n      <td>3800</td>\n      <td>1999.0</td>\n      <td>LINCOLN</td>\n      <td>TOWN CAR</td>\n      <td>excellent</td>\n      <td>8 cylinders</td>\n      <td>gas</td>\n      <td>160000.00000</td>\n      <td>clean</td>\n      <td>automatic</td>\n      <td>1LNHM82WXXY626430</td>\n      <td>rwd</td>\n      <td>full-size</td>\n      <td>sedan</td>\n      <td>white</td>\n      <td>https://images.craigslist.org/00q0q_6msyGUIqK3...</td>\n      <td>1999 *** Lincoln Town Car 4dr Sdn Signature Se...</td>\n      <td>NaN</td>\n      <td>mn</td>\n      <td>46.8433</td>\n      <td>-92.2550</td>\n      <td>21.0</td>\n      <td></td>\n      <td>(LINCOLN, TOWN CAR)</td>\n      <td>rwd</td>\n      <td>8 cylinders</td>\n      <td>gas</td>\n      <td>automatic</td>\n      <td>full-size</td>\n      <td>sedan</td>\n      <td>white</td>\n      <td>clean</td>\n    </tr>\n    <tr>\n      <th>423856</th>\n      <td>7195109037</td>\n      <td>https://albuquerque.craigslist.org/ctd/d/albuq...</td>\n      <td>albuquerque</td>\n      <td>https://albuquerque.craigslist.org</td>\n      <td>8650</td>\n      <td>2015.0</td>\n      <td>NISSAN</td>\n      <td>VERSA</td>\n      <td>excellent</td>\n      <td>4 cylinders</td>\n      <td>gas</td>\n      <td>160526.00000</td>\n      <td>clean</td>\n      <td>automatic</td>\n      <td>3N1CN7AP4FL819739</td>\n      <td>fwd</td>\n      <td>compact</td>\n      <td>sedan</td>\n      <td>silver</td>\n      <td>https://images.craigslist.org/00e0e_aTHizIb1II...</td>\n      <td>2015 Nissan Versa S     Offered by: Southwest ...</td>\n      <td>NaN</td>\n      <td>nm</td>\n      <td>35.1851</td>\n      <td>-106.5850</td>\n      <td>5.0</td>\n      <td></td>\n      <td>(NISSAN, VERSA)</td>\n      <td>fwd</td>\n      <td>4 cylinders</td>\n      <td>gas</td>\n      <td>automatic</td>\n      <td>compact</td>\n      <td>sedan</td>\n      <td>silver</td>\n      <td>clean</td>\n    </tr>\n  </tbody>\n</table>\n<p>289261 rows × 36 columns</p>\n</div>"
     },
     "metadata": {},
     "execution_count": 2
>>>>>>> parent of 9a195e9... rec_data-uploaded
    }
   ],
   "source": [
    "pd.read_pickle('rec_data',compression='zip')"
   ]
  },
  {
   "cell_type": "code",
   "execution_count": 12,
   "metadata": {},
   "outputs": [],
   "source": [
    "input_df=pd.DataFrame({'year':2006,\n",
    "    'manufacturer':'DODGE',\n",
    "  'model':'POLARA 500',\n",
    "   'condition':'excellent',\n",
    "    'cylinders':'8 cylinders',\n",
    "     'fuel':'gas',\n",
    "     'odometer': 159980.0,\n",
    "'title_status':'clean',\n",
    " 'transmission':'automatic',\n",
    "  'drive':'rwd',\n",
    "   'size':'full-size',\n",
    "    'type':'coupe',\n",
    "     'paint_color':'white'},index=[0])"
   ]
  },
  {
   "cell_type": "code",
   "execution_count": 4,
   "metadata": {},
   "outputs": [
    {
     "output_type": "execute_result",
     "data": {
      "text/plain": [
       "12335.482187361718"
      ]
     },
     "metadata": {},
     "execution_count": 4
    }
   ],
   "source": [
    "price_pred=trained_model.predict(ready_to_predict(input_df))[0]\n",
    "price_pred"
   ]
  },
  {
   "cell_type": "code",
   "execution_count": 13,
   "metadata": {},
   "outputs": [
    {
     "output_type": "execute_result",
     "data": {
      "text/plain": [
       "   year manufacturer       model  condition  ... drive       size   type paint_color\n",
       "0  2006        DODGE  POLARA 500  excellent  ...   rwd  full-size  coupe       white\n",
       "\n",
       "[1 rows x 13 columns]"
      ],
      "text/html": "<div>\n<style scoped>\n    .dataframe tbody tr th:only-of-type {\n        vertical-align: middle;\n    }\n\n    .dataframe tbody tr th {\n        vertical-align: top;\n    }\n\n    .dataframe thead th {\n        text-align: right;\n    }\n</style>\n<table border=\"1\" class=\"dataframe\">\n  <thead>\n    <tr style=\"text-align: right;\">\n      <th></th>\n      <th>year</th>\n      <th>manufacturer</th>\n      <th>model</th>\n      <th>condition</th>\n      <th>cylinders</th>\n      <th>fuel</th>\n      <th>odometer</th>\n      <th>title_status</th>\n      <th>transmission</th>\n      <th>drive</th>\n      <th>size</th>\n      <th>type</th>\n      <th>paint_color</th>\n    </tr>\n  </thead>\n  <tbody>\n    <tr>\n      <th>0</th>\n      <td>2006</td>\n      <td>DODGE</td>\n      <td>POLARA 500</td>\n      <td>excellent</td>\n      <td>8 cylinders</td>\n      <td>gas</td>\n      <td>159980.0</td>\n      <td>clean</td>\n      <td>automatic</td>\n      <td>rwd</td>\n      <td>full-size</td>\n      <td>coupe</td>\n      <td>white</td>\n    </tr>\n  </tbody>\n</table>\n</div>"
     },
     "metadata": {},
     "execution_count": 13
    }
   ],
   "source": [
    "input_df"
   ]
  },
  {
   "cell_type": "code",
   "execution_count": 6,
   "metadata": {},
   "outputs": [
    {
     "output_type": "execute_result",
     "data": {
      "text/plain": [
       "           id  ... default_title_status\n",
       "0  7188176986  ...                clean\n",
       "1  7193556133  ...                clean\n",
       "2  7192910644  ...                clean\n",
       "3  7184671926  ...                clean\n",
       "4  7187322791  ...                clean\n",
       "\n",
       "[5 rows x 36 columns]"
      ],
      "text/html": "<div>\n<style scoped>\n    .dataframe tbody tr th:only-of-type {\n        vertical-align: middle;\n    }\n\n    .dataframe tbody tr th {\n        vertical-align: top;\n    }\n\n    .dataframe thead th {\n        text-align: right;\n    }\n</style>\n<table border=\"1\" class=\"dataframe\">\n  <thead>\n    <tr style=\"text-align: right;\">\n      <th></th>\n      <th>id</th>\n      <th>url</th>\n      <th>region</th>\n      <th>region_url</th>\n      <th>price</th>\n      <th>year</th>\n      <th>manufacturer</th>\n      <th>model</th>\n      <th>condition</th>\n      <th>cylinders</th>\n      <th>fuel</th>\n      <th>odometer</th>\n      <th>title_status</th>\n      <th>transmission</th>\n      <th>vin</th>\n      <th>drive</th>\n      <th>size</th>\n      <th>type</th>\n      <th>paint_color</th>\n      <th>image_url</th>\n      <th>description</th>\n      <th>county</th>\n      <th>state</th>\n      <th>lat</th>\n      <th>long</th>\n      <th>age</th>\n      <th>default_model</th>\n      <th>car_model</th>\n      <th>default_drive</th>\n      <th>default_cylinders</th>\n      <th>default_fuel</th>\n      <th>default_transmission</th>\n      <th>default_size</th>\n      <th>default_type</th>\n      <th>default_paint_color</th>\n      <th>default_title_status</th>\n    </tr>\n  </thead>\n  <tbody>\n    <tr>\n      <th>0</th>\n      <td>7188176986</td>\n      <td>https://westslope.craigslist.org/ctd/d/grand-j...</td>\n      <td>western slope</td>\n      <td>https://westslope.craigslist.org</td>\n      <td>15494</td>\n      <td>2004.0</td>\n      <td>FORD</td>\n      <td>SUPER DUTY F350 SRW</td>\n      <td>excellent</td>\n      <td>8 cylinders</td>\n      <td>diesel</td>\n      <td>200512.0</td>\n      <td>clean</td>\n      <td>automatic</td>\n      <td>1FTSW31P24EC99407</td>\n      <td>4wd</td>\n      <td>full-size</td>\n      <td>pickup</td>\n      <td>white</td>\n      <td>https://images.craigslist.org/00m0m_dK71QUblfC...</td>\n      <td>Grand Valley Auto Sales address:    2485 Highw...</td>\n      <td>NaN</td>\n      <td>CO</td>\n      <td>39.0842</td>\n      <td>-108.5930</td>\n      <td>16.0</td>\n      <td></td>\n      <td>(FORD, SUPER DUTY F350 SRW)</td>\n      <td>4wd</td>\n      <td>8 cylinders</td>\n      <td>diesel</td>\n      <td>automatic</td>\n      <td>full-size</td>\n      <td>truck</td>\n      <td>white</td>\n      <td>clean</td>\n    </tr>\n    <tr>\n      <th>1</th>\n      <td>7193556133</td>\n      <td>https://kpr.craigslist.org/ctd/d/kennewick-201...</td>\n      <td>kennewick-pasco-richland</td>\n      <td>https://kpr.craigslist.org</td>\n      <td>8998</td>\n      <td>2015.0</td>\n      <td>DODGE</td>\n      <td>GRAND CARAVAN</td>\n      <td>excellent</td>\n      <td>6 cylinders</td>\n      <td>gas</td>\n      <td>116617.0</td>\n      <td>clean</td>\n      <td>automatic</td>\n      <td>2C4RDGCG8FR535380</td>\n      <td>fwd</td>\n      <td>full-size</td>\n      <td>mini-van</td>\n      <td>white</td>\n      <td>https://images.craigslist.org/00303_5C49sgmonb...</td>\n      <td>Leskovar Mitsubishi address:    3020 W. Clearw...</td>\n      <td>NaN</td>\n      <td>WA</td>\n      <td>46.2138</td>\n      <td>-119.1610</td>\n      <td>5.0</td>\n      <td></td>\n      <td>(DODGE, GRAND CARAVAN)</td>\n      <td>fwd</td>\n      <td>6 cylinders</td>\n      <td>gas</td>\n      <td>automatic</td>\n      <td>full-size</td>\n      <td>mini-van</td>\n      <td>white</td>\n      <td>clean</td>\n    </tr>\n    <tr>\n      <th>2</th>\n      <td>7192910644</td>\n      <td>https://norfolk.craigslist.org/ctd/d/chesapeak...</td>\n      <td>norfolk / hampton roads</td>\n      <td>https://norfolk.craigslist.org</td>\n      <td>10995</td>\n      <td>2010.0</td>\n      <td>ACURA</td>\n      <td>MDX</td>\n      <td>excellent</td>\n      <td>6 cylinders</td>\n      <td>gas</td>\n      <td>142805.0</td>\n      <td>clean</td>\n      <td>automatic</td>\n      <td>2HNYD2H20AH527648</td>\n      <td>4wd</td>\n      <td>full-size</td>\n      <td>SUV</td>\n      <td>black</td>\n      <td>https://images.craigslist.org/00G0G_UdKsy2Q252...</td>\n      <td>This Acura MDX can be yours today!Good credit ...</td>\n      <td>NaN</td>\n      <td>VA</td>\n      <td>36.7352</td>\n      <td>-76.2384</td>\n      <td>10.0</td>\n      <td></td>\n      <td>(ACURA, MDX)</td>\n      <td>4wd</td>\n      <td>6 cylinders</td>\n      <td>gas</td>\n      <td>automatic</td>\n      <td>full-size</td>\n      <td>SUV</td>\n      <td>black</td>\n      <td>clean</td>\n    </tr>\n    <tr>\n      <th>3</th>\n      <td>7184671926</td>\n      <td>https://jonesboro.craigslist.org/ctd/d/melbour...</td>\n      <td>jonesboro</td>\n      <td>https://jonesboro.craigslist.org</td>\n      <td>8995</td>\n      <td>2013.0</td>\n      <td>DODGE</td>\n      <td>GRAND CARAVAN</td>\n      <td>excellent</td>\n      <td>6 cylinders</td>\n      <td>gas</td>\n      <td>116795.0</td>\n      <td>clean</td>\n      <td>automatic</td>\n      <td>2C4RDGCG4DR790833</td>\n      <td>fwd</td>\n      <td>full-size</td>\n      <td>van</td>\n      <td>grey</td>\n      <td>https://images.craigslist.org/00n0n_kGnk8F7ZWI...</td>\n      <td>2013 Dodge Grand Caravan SXT -- Down Payments ...</td>\n      <td>NaN</td>\n      <td>AR</td>\n      <td>36.0584</td>\n      <td>-91.8792</td>\n      <td>7.0</td>\n      <td></td>\n      <td>(DODGE, GRAND CARAVAN)</td>\n      <td>fwd</td>\n      <td>6 cylinders</td>\n      <td>gas</td>\n      <td>automatic</td>\n      <td>full-size</td>\n      <td>mini-van</td>\n      <td>white</td>\n      <td>clean</td>\n    </tr>\n    <tr>\n      <th>4</th>\n      <td>7187322791</td>\n      <td>https://jonesboro.craigslist.org/ctd/d/melbour...</td>\n      <td>jonesboro</td>\n      <td>https://jonesboro.craigslist.org</td>\n      <td>8995</td>\n      <td>2013.0</td>\n      <td>DODGE</td>\n      <td>GRAND CARAVAN</td>\n      <td>excellent</td>\n      <td>6 cylinders</td>\n      <td>gas</td>\n      <td>116795.0</td>\n      <td>clean</td>\n      <td>automatic</td>\n      <td>2C4RDGCG4DR790833</td>\n      <td>fwd</td>\n      <td>full-size</td>\n      <td>van</td>\n      <td>grey</td>\n      <td>https://images.craigslist.org/00n0n_kGnk8F7ZWI...</td>\n      <td>2013 Dodge Grand Caravan SXT -- Down Payments ...</td>\n      <td>NaN</td>\n      <td>AR</td>\n      <td>36.0584</td>\n      <td>-91.8792</td>\n      <td>7.0</td>\n      <td></td>\n      <td>(DODGE, GRAND CARAVAN)</td>\n      <td>fwd</td>\n      <td>6 cylinders</td>\n      <td>gas</td>\n      <td>automatic</td>\n      <td>full-size</td>\n      <td>mini-van</td>\n      <td>white</td>\n      <td>clean</td>\n    </tr>\n  </tbody>\n</table>\n</div>"
     },
     "metadata": {},
     "execution_count": 6
    }
   ],
   "source": [
    "get_buy_recommendation(input_df,rec_data,price_pred)"
   ]
  },
  {
   "cell_type": "code",
   "execution_count": 10,
   "metadata": {},
   "outputs": [
    {
     "output_type": "execute_result",
     "data": {
      "text/plain": [
       "13935.0"
      ]
     },
     "metadata": {},
     "execution_count": 10
    }
   ],
   "source": [
    "(input_df['model'][0])"
   ]
  },
  {
   "cell_type": "code",
   "execution_count": 14,
   "metadata": {},
   "outputs": [
    {
     "output_type": "execute_result",
     "data": {
      "text/plain": [
       "                                         description  price  ...  paint_color state\n",
       "0  Dodge Polara convertible- hasn’t been run in y...   4900  ...        white    NM\n",
       "1  1964 Dodge Polara 500 2dr hardtop 440 w/727 au...  12500  ...        white    TN\n",
       "\n",
       "[2 rows x 16 columns]"
      ],
      "text/html": "<div>\n<style scoped>\n    .dataframe tbody tr th:only-of-type {\n        vertical-align: middle;\n    }\n\n    .dataframe tbody tr th {\n        vertical-align: top;\n    }\n\n    .dataframe thead th {\n        text-align: right;\n    }\n</style>\n<table border=\"1\" class=\"dataframe\">\n  <thead>\n    <tr style=\"text-align: right;\">\n      <th></th>\n      <th>description</th>\n      <th>price</th>\n      <th>year</th>\n      <th>manufacturer</th>\n      <th>model</th>\n      <th>condition</th>\n      <th>cylinders</th>\n      <th>fuel</th>\n      <th>odometer</th>\n      <th>title_status</th>\n      <th>transmission</th>\n      <th>drive</th>\n      <th>size</th>\n      <th>type</th>\n      <th>paint_color</th>\n      <th>state</th>\n    </tr>\n  </thead>\n  <tbody>\n    <tr>\n      <th>0</th>\n      <td>Dodge Polara convertible- hasn’t been run in y...</td>\n      <td>4900</td>\n      <td>1968.0</td>\n      <td>DODGE</td>\n      <td>POLARA 500</td>\n      <td>excellent</td>\n      <td>8 cylinders</td>\n      <td>gas</td>\n      <td>68590.546763</td>\n      <td>missing</td>\n      <td>automatic</td>\n      <td>rwd</td>\n      <td>full-size</td>\n      <td>coupe</td>\n      <td>white</td>\n      <td>NM</td>\n    </tr>\n    <tr>\n      <th>1</th>\n      <td>1964 Dodge Polara 500 2dr hardtop 440 w/727 au...</td>\n      <td>12500</td>\n      <td>1964.0</td>\n      <td>DODGE</td>\n      <td>POLARA 500</td>\n      <td>good</td>\n      <td>8 cylinders</td>\n      <td>gas</td>\n      <td>58498.957265</td>\n      <td>clean</td>\n      <td>automatic</td>\n      <td>rwd</td>\n      <td>full-size</td>\n      <td>coupe</td>\n      <td>white</td>\n      <td>TN</td>\n    </tr>\n  </tbody>\n</table>\n</div>"
     },
     "metadata": {},
     "execution_count": 14
    }
   ],
   "source": [
    "get_sell_recommendation(input_df,rec_data,price_pred)"
   ]
  },
  {
   "cell_type": "code",
   "execution_count": null,
   "metadata": {},
   "outputs": [],
   "source": []
  }
 ]
}